{
 "cells": [
  {
   "cell_type": "markdown",
   "id": "c183a802",
   "metadata": {},
   "source": [
    "# Main Libraries"
   ]
  },
  {
   "cell_type": "code",
   "execution_count": 1,
   "id": "3e75df20",
   "metadata": {},
   "outputs": [],
   "source": [
    "import warnings\n",
    "warnings.simplefilter(action='ignore', category=FutureWarning)\n",
    "\n",
    "# Numerical libraries\n",
    "import pandas as pd\n",
    "import numpy as np\n",
    "\n",
    "# Visualization\n",
    "import matplotlib.pyplot as plt\n",
    "\n",
    "# Statistics and Machine Learning\n",
    "from sklearn.model_selection import train_test_split\n",
    "from sklearn.ensemble import GradientBoostingClassifier\n",
    "from sklearn.model_selection import RandomizedSearchCV\n",
    "from sklearn.model_selection import GridSearchCV\n",
    "from sklearn.metrics import plot_confusion_matrix\n",
    "from sklearn.metrics import plot_roc_curve\n",
    "from sklearn.metrics import f1_score, accuracy_score, precision_score, recall_score, classification_report"
   ]
  },
  {
   "cell_type": "markdown",
   "id": "87e44fdf",
   "metadata": {},
   "source": [
    "# Loading Data"
   ]
  },
  {
   "cell_type": "code",
   "execution_count": 2,
   "id": "217109f2",
   "metadata": {},
   "outputs": [
    {
     "data": {
      "text/html": [
       "<div>\n",
       "<style scoped>\n",
       "    .dataframe tbody tr th:only-of-type {\n",
       "        vertical-align: middle;\n",
       "    }\n",
       "\n",
       "    .dataframe tbody tr th {\n",
       "        vertical-align: top;\n",
       "    }\n",
       "\n",
       "    .dataframe thead th {\n",
       "        text-align: right;\n",
       "    }\n",
       "</style>\n",
       "<table border=\"1\" class=\"dataframe\">\n",
       "  <thead>\n",
       "    <tr style=\"text-align: right;\">\n",
       "      <th></th>\n",
       "      <th>rollRate</th>\n",
       "      <th>pitchRate</th>\n",
       "      <th>yawRate</th>\n",
       "      <th>anomaly27</th>\n",
       "    </tr>\n",
       "  </thead>\n",
       "  <tbody>\n",
       "    <tr>\n",
       "      <th>27000</th>\n",
       "      <td>-0.1</td>\n",
       "      <td>-0.1</td>\n",
       "      <td>0.0</td>\n",
       "      <td>0</td>\n",
       "    </tr>\n",
       "    <tr>\n",
       "      <th>27001</th>\n",
       "      <td>0.1</td>\n",
       "      <td>0.0</td>\n",
       "      <td>0.0</td>\n",
       "      <td>0</td>\n",
       "    </tr>\n",
       "    <tr>\n",
       "      <th>27002</th>\n",
       "      <td>0.2</td>\n",
       "      <td>-0.0</td>\n",
       "      <td>0.2</td>\n",
       "      <td>0</td>\n",
       "    </tr>\n",
       "    <tr>\n",
       "      <th>27003</th>\n",
       "      <td>-0.3</td>\n",
       "      <td>-0.5</td>\n",
       "      <td>0.0</td>\n",
       "      <td>0</td>\n",
       "    </tr>\n",
       "    <tr>\n",
       "      <th>27004</th>\n",
       "      <td>1.7</td>\n",
       "      <td>0.4</td>\n",
       "      <td>-4.7</td>\n",
       "      <td>0</td>\n",
       "    </tr>\n",
       "    <tr>\n",
       "      <th>...</th>\n",
       "      <td>...</td>\n",
       "      <td>...</td>\n",
       "      <td>...</td>\n",
       "      <td>...</td>\n",
       "    </tr>\n",
       "    <tr>\n",
       "      <th>35994</th>\n",
       "      <td>-0.0</td>\n",
       "      <td>0.2</td>\n",
       "      <td>-0.1</td>\n",
       "      <td>0</td>\n",
       "    </tr>\n",
       "    <tr>\n",
       "      <th>35995</th>\n",
       "      <td>-0.1</td>\n",
       "      <td>0.2</td>\n",
       "      <td>0.1</td>\n",
       "      <td>0</td>\n",
       "    </tr>\n",
       "    <tr>\n",
       "      <th>35996</th>\n",
       "      <td>-0.0</td>\n",
       "      <td>-0.0</td>\n",
       "      <td>0.0</td>\n",
       "      <td>0</td>\n",
       "    </tr>\n",
       "    <tr>\n",
       "      <th>35997</th>\n",
       "      <td>-0.0</td>\n",
       "      <td>-0.1</td>\n",
       "      <td>0.1</td>\n",
       "      <td>0</td>\n",
       "    </tr>\n",
       "    <tr>\n",
       "      <th>35998</th>\n",
       "      <td>-0.1</td>\n",
       "      <td>0.1</td>\n",
       "      <td>0.1</td>\n",
       "      <td>0</td>\n",
       "    </tr>\n",
       "  </tbody>\n",
       "</table>\n",
       "<p>8999 rows × 4 columns</p>\n",
       "</div>"
      ],
      "text/plain": [
       "       rollRate  pitchRate  yawRate  anomaly27\n",
       "27000      -0.1       -0.1      0.0          0\n",
       "27001       0.1        0.0      0.0          0\n",
       "27002       0.2       -0.0      0.2          0\n",
       "27003      -0.3       -0.5      0.0          0\n",
       "27004       1.7        0.4     -4.7          0\n",
       "...         ...        ...      ...        ...\n",
       "35994      -0.0        0.2     -0.1          0\n",
       "35995      -0.1        0.2      0.1          0\n",
       "35996      -0.0       -0.0      0.0          0\n",
       "35997      -0.0       -0.1      0.1          0\n",
       "35998      -0.1        0.1      0.1          0\n",
       "\n",
       "[8999 rows x 4 columns]"
      ]
     },
     "execution_count": 2,
     "metadata": {},
     "output_type": "execute_result"
    }
   ],
   "source": [
    "df_out = pd.read_csv('LSTM_output.csv')\n",
    "df_out = df_out[['rollRate','pitchRate','yawRate','anomaly27']].tail(int(0.25*len(df_out)))\n",
    "df_out"
   ]
  },
  {
   "cell_type": "code",
   "execution_count": 3,
   "id": "a78aa05a",
   "metadata": {},
   "outputs": [
    {
     "data": {
      "text/plain": [
       "0    6799\n",
       "1    2200\n",
       "Name: anomaly27, dtype: int64"
      ]
     },
     "execution_count": 3,
     "metadata": {},
     "output_type": "execute_result"
    }
   ],
   "source": [
    "df_out.anomaly27.value_counts()"
   ]
  },
  {
   "cell_type": "code",
   "execution_count": 4,
   "id": "1ab1d2dc",
   "metadata": {},
   "outputs": [
    {
     "data": {
      "text/plain": [
       "array([[<AxesSubplot:title={'center':'rollRate'}>,\n",
       "        <AxesSubplot:title={'center':'pitchRate'}>],\n",
       "       [<AxesSubplot:title={'center':'yawRate'}>,\n",
       "        <AxesSubplot:title={'center':'anomaly27'}>]], dtype=object)"
      ]
     },
     "execution_count": 4,
     "metadata": {},
     "output_type": "execute_result"
    },
    {
     "data": {
      "image/png": "[encoded data removed]",
      "text/plain": [
       "<Figure size 432x288 with 4 Axes>"
      ]
     },
     "metadata": {
      "needs_background": "light"
     },
     "output_type": "display_data"
    }
   ],
   "source": [
    "df_out.hist()"
   ]
  },
  {
   "cell_type": "markdown",
   "id": "843e3263",
   "metadata": {},
   "source": [
    "# X,y matrices"
   ]
  },
  {
   "cell_type": "code",
   "execution_count": 5,
   "id": "2d1b4936",
   "metadata": {},
   "outputs": [
    {
     "name": "stdout",
     "output_type": "stream",
     "text": [
      "       rollRate  pitchRate  yawRate\n",
      "27000      -0.1       -0.1      0.0\n",
      "27001       0.1        0.0      0.0\n",
      "27002       0.2       -0.0      0.2\n",
      "27003      -0.3       -0.5      0.0\n",
      "27004       1.7        0.4     -4.7 \n",
      "\n",
      "        anomaly27\n",
      "27000          0\n",
      "27001          0\n",
      "27002          0\n",
      "27003          0\n",
      "27004          0\n"
     ]
    }
   ],
   "source": [
    "X = df_out[['rollRate','pitchRate','yawRate']]\n",
    "y = df_out[['anomaly27']]\n",
    "\n",
    "print(X.head(),'\\n\\n',y.head())"
   ]
  },
  {
   "cell_type": "code",
   "execution_count": 6,
   "id": "19e46075",
   "metadata": {},
   "outputs": [
    {
     "name": "stdout",
     "output_type": "stream",
     "text": [
      "(8774, 3)\n",
      "(225, 3)\n",
      "(8774, 1)\n",
      "(225, 1)\n"
     ]
    }
   ],
   "source": [
    "X_train,X_test,\\\n",
    "y_train,y_test = train_test_split(X,y,test_size=0.025,random_state=42)\n",
    "\n",
    "print(X_train.shape)\n",
    "print(X_test.shape)\n",
    "print(y_train.shape)\n",
    "print(y_test.shape)"
   ]
  },
  {
   "cell_type": "markdown",
   "id": "3323d7f8",
   "metadata": {},
   "source": [
    "# Classifier"
   ]
  },
  {
   "cell_type": "code",
   "execution_count": 7,
   "id": "a0f92642",
   "metadata": {
    "scrolled": false
   },
   "outputs": [
    {
     "name": "stdout",
     "output_type": "stream",
     "text": [
      "Fitting 5 folds for each of 5 candidates, totalling 25 fits\n"
     ]
    },
    {
     "name": "stderr",
     "output_type": "stream",
     "text": [
      "D:\\Anaconda\\lib\\site-packages\\sklearn\\utils\\validation.py:63: DataConversionWarning: A column-vector y was passed when a 1d array was expected. Please change the shape of y to (n_samples, ), for example using ravel().\n",
      "  return f(*args, **kwargs)\n"
     ]
    },
    {
     "data": {
      "text/plain": [
       "RandomizedSearchCV(cv=5, estimator=GradientBoostingClassifier(), n_iter=5,\n",
       "                   n_jobs=-1,\n",
       "                   param_distributions={'learning_rate': [0.05, 0.1, 0.2, 0.5,\n",
       "                                                          0.9],\n",
       "                                        'max_depth': [3, 5, 10, 15, 20, 30],\n",
       "                                        'max_leaf_nodes': [5, 10, 20, 30, 50,\n",
       "                                                           100, 300],\n",
       "                                        'min_impurity_decrease': [0.0, 0.2, 0.4,\n",
       "                                                                  0.5, 0.6, 0.8,\n",
       "                                                                  1.0],\n",
       "                                        'min_samples_leaf': [1, 2, 3, 5, 8, 10],\n",
       "                                        'min_samples_split': [2, 4, 7, 10],\n",
       "                                        'n_estimators': [20, 50, 100, 200, 300,\n",
       "                                                         500, 700, 1000]},\n",
       "                   random_state=42, return_train_score=True, verbose=True)"
      ]
     },
     "execution_count": 7,
     "metadata": {},
     "output_type": "execute_result"
    }
   ],
   "source": [
    "# Hyperparameters tunning\n",
    "hyperparameters = {\n",
    "    \"learning_rate\":[0.05, 0.1, 0.2, 0.5, 0.9],\n",
    "    \"n_estimators\":[20, 50, 100, 200, 300, 500, 700, 1000],\n",
    "    \"max_depth\":[3, 5, 10, 15, 20, 30],\n",
    "    \"min_samples_split\":[2, 4, 7, 10],\n",
    "    \"min_samples_leaf\":[1, 2, 3, 5, 8, 10],\n",
    "    \"min_impurity_decrease\":[0., 0.2, 0.4, 0.5, 0.6, 0.8, 1.],\n",
    "    \"max_leaf_nodes\":[5, 10, 20, 30, 50, 100, 300]\n",
    "}\n",
    "\n",
    "# Create a baseline model\n",
    "model = GradientBoostingClassifier()\n",
    "\n",
    "# Instantiate the params grid search model\n",
    "randomized_search = RandomizedSearchCV(model, hyperparameters, random_state=42, n_iter=5, scoring=None,\n",
    "                                       n_jobs=-1, refit=True, cv=5, verbose=True,return_train_score=True)\n",
    "\n",
    "# Fit the grid search to the data\n",
    "randomized_search.fit(X_train, y_train)"
   ]
  },
  {
   "cell_type": "code",
   "execution_count": 8,
   "id": "e33ddedd",
   "metadata": {},
   "outputs": [
    {
     "name": "stdout",
     "output_type": "stream",
     "text": [
      "Best Parameters = {'n_estimators': 200, 'min_samples_split': 7, 'min_samples_leaf': 10, 'min_impurity_decrease': 0.2, 'max_leaf_nodes': 50, 'max_depth': 15, 'learning_rate': 0.2}\n"
     ]
    }
   ],
   "source": [
    "hyperparameters_tuning = randomized_search\n",
    "print('Best Parameters = {}'.format(hyperparameters_tuning.best_params_))"
   ]
  },
  {
   "cell_type": "code",
   "execution_count": 24,
   "id": "ddd0ab4f",
   "metadata": {},
   "outputs": [
    {
     "name": "stderr",
     "output_type": "stream",
     "text": [
      "D:\\Anaconda\\lib\\site-packages\\sklearn\\utils\\validation.py:63: DataConversionWarning: A column-vector y was passed when a 1d array was expected. Please change the shape of y to (n_samples, ), for example using ravel().\n",
      "  return f(*args, **kwargs)\n"
     ]
    }
   ],
   "source": [
    "classifier = GradientBoostingClassifier(n_estimators=500,min_samples_split=7,min_samples_leaf=10,\n",
    "                                                           min_impurity_decrease=0.2,max_leaf_nodes=50,max_depth=15,\n",
    "                                                           learning_rate=0.05)\n",
    "classifier = classifier.fit(X_train, y_train)"
   ]
  },
  {
   "cell_type": "code",
   "execution_count": 25,
   "id": "e1d27364",
   "metadata": {},
   "outputs": [
    {
     "data": {
      "text/html": [
       "<div>\n",
       "<style scoped>\n",
       "    .dataframe tbody tr th:only-of-type {\n",
       "        vertical-align: middle;\n",
       "    }\n",
       "\n",
       "    .dataframe tbody tr th {\n",
       "        vertical-align: top;\n",
       "    }\n",
       "\n",
       "    .dataframe thead th {\n",
       "        text-align: right;\n",
       "    }\n",
       "</style>\n",
       "<table border=\"1\" class=\"dataframe\">\n",
       "  <thead>\n",
       "    <tr style=\"text-align: right;\">\n",
       "      <th></th>\n",
       "      <th>anomalyFlag</th>\n",
       "    </tr>\n",
       "  </thead>\n",
       "  <tbody>\n",
       "    <tr>\n",
       "      <th>0</th>\n",
       "      <td>1</td>\n",
       "    </tr>\n",
       "    <tr>\n",
       "      <th>1</th>\n",
       "      <td>1</td>\n",
       "    </tr>\n",
       "    <tr>\n",
       "      <th>2</th>\n",
       "      <td>0</td>\n",
       "    </tr>\n",
       "    <tr>\n",
       "      <th>3</th>\n",
       "      <td>0</td>\n",
       "    </tr>\n",
       "    <tr>\n",
       "      <th>4</th>\n",
       "      <td>1</td>\n",
       "    </tr>\n",
       "    <tr>\n",
       "      <th>...</th>\n",
       "      <td>...</td>\n",
       "    </tr>\n",
       "    <tr>\n",
       "      <th>220</th>\n",
       "      <td>0</td>\n",
       "    </tr>\n",
       "    <tr>\n",
       "      <th>221</th>\n",
       "      <td>0</td>\n",
       "    </tr>\n",
       "    <tr>\n",
       "      <th>222</th>\n",
       "      <td>0</td>\n",
       "    </tr>\n",
       "    <tr>\n",
       "      <th>223</th>\n",
       "      <td>0</td>\n",
       "    </tr>\n",
       "    <tr>\n",
       "      <th>224</th>\n",
       "      <td>0</td>\n",
       "    </tr>\n",
       "  </tbody>\n",
       "</table>\n",
       "<p>225 rows × 1 columns</p>\n",
       "</div>"
      ],
      "text/plain": [
       "     anomalyFlag\n",
       "0              1\n",
       "1              1\n",
       "2              0\n",
       "3              0\n",
       "4              1\n",
       "..           ...\n",
       "220            0\n",
       "221            0\n",
       "222            0\n",
       "223            0\n",
       "224            0\n",
       "\n",
       "[225 rows x 1 columns]"
      ]
     },
     "execution_count": 25,
     "metadata": {},
     "output_type": "execute_result"
    }
   ],
   "source": [
    "y_pred = classifier.predict(X_test)\n",
    "y_pred = pd.DataFrame({'anomalyFlag':list(y_pred)})\n",
    "y_pred"
   ]
  },
  {
   "cell_type": "code",
   "execution_count": 26,
   "id": "5cb96a9f",
   "metadata": {},
   "outputs": [
    {
     "name": "stdout",
     "output_type": "stream",
     "text": [
      "F1 Score: 75.94%\n",
      "Accuracy Score: 82.22%\n",
      "Precision Score: 81.4%\n",
      "Recall Score: 52.24%\n"
     ]
    }
   ],
   "source": [
    "f1 = round(f1_score(y_test, y_pred, average='macro')*100, 2)\n",
    "accuracy = round(accuracy_score(y_test, y_pred)*100,2)\n",
    "precision = round(precision_score(y_test, y_pred)*100,2)\n",
    "recall = round(recall_score(y_test, y_pred)*100,2)\n",
    "\n",
    "print(f\"F1 Score: {f1}%\")\n",
    "print(f\"Accuracy Score: {accuracy}%\")\n",
    "print(f\"Precision Score: {precision}%\")\n",
    "print(f\"Recall Score: {recall}%\")"
   ]
  },
  {
   "cell_type": "code",
   "execution_count": 27,
   "id": "2ee5754e",
   "metadata": {},
   "outputs": [
    {
     "data": {
      "image/png": "[encoded data removed]",
      "text/plain": [
       "<Figure size 432x288 with 2 Axes>"
      ]
     },
     "metadata": {
      "needs_background": "light"
     },
     "output_type": "display_data"
    }
   ],
   "source": [
    "plot_confusion_matrix(classifier, X_test, y_test, values_format='d')  \n",
    "plt.grid(False)\n",
    "plt.show()"
   ]
  },
  {
   "cell_type": "code",
   "execution_count": 28,
   "id": "cbd3f6ea",
   "metadata": {},
   "outputs": [
    {
     "data": {
      "image/png": "[encoded data removed]",
      "text/plain": [
       "<Figure size 432x288 with 1 Axes>"
      ]
     },
     "metadata": {
      "needs_background": "light"
     },
     "output_type": "display_data"
    }
   ],
   "source": [
    "plot_roc_curve(classifier, X_test, y_test)  \n",
    "plt.grid(True)\n",
    "plt.show()"
   ]
  },
  {
   "cell_type": "markdown",
   "id": "e14cdc77",
   "metadata": {},
   "source": [
    "# Exporting the model"
   ]
  },
  {
   "cell_type": "code",
   "execution_count": 29,
   "id": "a6481fa3",
   "metadata": {},
   "outputs": [
    {
     "data": {
      "text/plain": [
       "['anomalyDetector.joblib']"
      ]
     },
     "execution_count": 29,
     "metadata": {},
     "output_type": "execute_result"
    }
   ],
   "source": [
    "# saving the model (joblib)\n",
    "import joblib\n",
    "filename = 'anomalyDetector.joblib'\n",
    "joblib.dump(classifier, filename)"
   ]
  },
  {
   "cell_type": "code",
   "execution_count": 30,
   "id": "13294a3d",
   "metadata": {},
   "outputs": [
    {
     "data": {
      "text/plain": [
       "GradientBoostingClassifier(learning_rate=0.05, max_depth=15, max_leaf_nodes=50,\n",
       "                           min_impurity_decrease=0.2, min_samples_leaf=10,\n",
       "                           min_samples_split=7, n_estimators=500)"
      ]
     },
     "execution_count": 30,
     "metadata": {},
     "output_type": "execute_result"
    }
   ],
   "source": [
    "# loading the model (joblib)\n",
    "filename = 'anomalyDetector.joblib'\n",
    "loaded_model = joblib.load(filename)\n",
    "loaded_model"
   ]
  },
  {
   "cell_type": "code",
   "execution_count": 31,
   "id": "a245cc0c",
   "metadata": {},
   "outputs": [
    {
     "data": {
      "text/plain": [
       "rollRate     0.3\n",
       "pitchRate    0.0\n",
       "yawRate      0.8\n",
       "Name: 27005, dtype: float64"
      ]
     },
     "execution_count": 31,
     "metadata": {},
     "output_type": "execute_result"
    }
   ],
   "source": [
    "# Example of data to take as input to the model\n",
    "X.iloc[5]"
   ]
  },
  {
   "cell_type": "code",
   "execution_count": 32,
   "id": "a237b828",
   "metadata": {},
   "outputs": [
    {
     "data": {
      "text/plain": [
       "array([[0.3, 0. , 0.8]])"
      ]
     },
     "execution_count": 32,
     "metadata": {},
     "output_type": "execute_result"
    }
   ],
   "source": [
    "X.iloc[[5]].values #input values"
   ]
  },
  {
   "cell_type": "code",
   "execution_count": 33,
   "id": "617f85af",
   "metadata": {},
   "outputs": [
    {
     "data": {
      "text/plain": [
       "array([0], dtype=int64)"
      ]
     },
     "execution_count": 33,
     "metadata": {},
     "output_type": "execute_result"
    }
   ],
   "source": [
    "model_input = X.iloc[[5]].values\n",
    "model_output = loaded_model.predict(model_input)\n",
    "model_output"
   ]
  }
 ],
 "metadata": {
  "kernelspec": {
   "display_name": "Python 3",
   "language": "python",
   "name": "python3"
  },
  "language_info": {
   "codemirror_mode": {
    "name": "ipython",
    "version": 3
   },
   "file_extension": ".py",
   "mimetype": "text/x-python",
   "name": "python",
   "nbconvert_exporter": "python",
   "pygments_lexer": "ipython3",
   "version": "3.8.8"
  }
 },
 "nbformat": 4,
 "nbformat_minor": 5
}
